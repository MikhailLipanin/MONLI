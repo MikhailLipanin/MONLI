{
  "nbformat": 4,
  "nbformat_minor": 0,
  "metadata": {
    "colab": {
      "provenance": []
    },
    "kernelspec": {
      "name": "python3",
      "display_name": "Python 3"
    },
    "language_info": {
      "name": "python"
    }
  },
  "cells": [
    {
      "cell_type": "markdown",
      "source": [],
      "metadata": {
        "id": "njMqU0SKFzdb"
      }
    },
    {
      "cell_type": "markdown",
      "source": [
        "1.1. Исправление окончаний в тексте\n",
        "Задача: Написать код на Python, исправляющий окончания в выбранном тексте.\n",
        "\n",
        "Решение:"
      ],
      "metadata": {
        "id": "f-JD-uUUF1uB"
      }
    },
    {
      "cell_type": "code",
      "source": [
        "import re\n",
        "\n",
        "text = \"умный\"\n",
        "corrected_text = re.sub(\"ый$\", \"ейший\", text)\n",
        "print(corrected_text)"
      ],
      "metadata": {
        "colab": {
          "base_uri": "https://localhost:8080/"
        },
        "id": "TosrcnYAF2t_",
        "outputId": "115054cf-5b00-41fe-c5eb-43b3e67f11ac"
      },
      "execution_count": 1,
      "outputs": [
        {
          "output_type": "stream",
          "name": "stdout",
          "text": [
            "умнейший\n"
          ]
        }
      ]
    },
    {
      "cell_type": "markdown",
      "source": [
        "1.2. Возвращение списка всех вхождений регулярного выражения в текст\n",
        "Задача: Написать код на Python, возвращающий список всех вхождений регулярного выражения в текст.\n",
        "\n",
        "Решение:"
      ],
      "metadata": {
        "id": "Df8kSKR9GUJk"
      }
    },
    {
      "cell_type": "code",
      "source": [
        "import re\n",
        "\n",
        "matches = re.findall(\"xy\", \"xkyxyjnxy\")\n",
        "print(matches)"
      ],
      "metadata": {
        "colab": {
          "base_uri": "https://localhost:8080/"
        },
        "id": "nl7GTO4JGcsO",
        "outputId": "7386e1a8-7efc-4100-c4d4-75909c40b908"
      },
      "execution_count": 3,
      "outputs": [
        {
          "output_type": "stream",
          "name": "stdout",
          "text": [
            "['xy', 'xy']\n"
          ]
        }
      ]
    },
    {
      "cell_type": "markdown",
      "source": [
        "1.3. Удаление ошибочно написанных лишних букв в словах\n",
        "Задача: Написать код на Python, удаляющий ошибочно написанные лишние буквы в словах.\n",
        "\n",
        "Решение:"
      ],
      "metadata": {
        "id": "AmSp9Wv-GzRh"
      }
    },
    {
      "cell_type": "code",
      "source": [
        "import re\n",
        "\n",
        "text = \"Gooooooogle\"\n",
        "corrected_text = re.sub(r'o{2,}', 'oo', text)  # Заменяем 2+ \"o\" на \"oo\"\n",
        "print(corrected_text)"
      ],
      "metadata": {
        "colab": {
          "base_uri": "https://localhost:8080/"
        },
        "id": "n4NdSmcAG2Or",
        "outputId": "cb61adb1-b2e5-45af-ff1f-e79d19426f71"
      },
      "execution_count": 22,
      "outputs": [
        {
          "output_type": "stream",
          "name": "stdout",
          "text": [
            "Google\n"
          ]
        }
      ]
    },
    {
      "cell_type": "markdown",
      "source": [
        "1.4. Возвращение списка всех аббревиатур в тексте\n",
        "Задача: Написать код на Python, возвращающий список всех аббревиатур, встретившихся в тексте.\n",
        "\n",
        "Решение:"
      ],
      "metadata": {
        "id": "VETZVCbaH6X1"
      }
    },
    {
      "cell_type": "code",
      "source": [
        "import re\n",
        "\n",
        "text = \"A conditional random field (CRF) is a ...\"\n",
        "abbreviations = re.findall(r'\\(([A-Z]+)\\)', text)\n",
        "print(abbreviations)"
      ],
      "metadata": {
        "colab": {
          "base_uri": "https://localhost:8080/"
        },
        "id": "xt3WonA8H73E",
        "outputId": "95243857-ff3e-42bd-c211-3e2c1e3eba6b"
      },
      "execution_count": 8,
      "outputs": [
        {
          "output_type": "stream",
          "name": "stdout",
          "text": [
            "['CRF']\n"
          ]
        }
      ]
    },
    {
      "cell_type": "markdown",
      "source": [
        "1.5. Шаблон для поиска всех вхождений слова «The»\n",
        "Задача: Написать шаблон (pattern) для поиска всех вхождений слова «The» в заданный текст.\n",
        "\n",
        "Решение:"
      ],
      "metadata": {
        "id": "KCew2J-7IEvk"
      }
    },
    {
      "cell_type": "code",
      "source": [
        "import re\n",
        "\n",
        "data = \"The, the; THE DOG and the cat. themes not the the\"\n",
        "pattern = r'\\bthe\\b'\n",
        "matches = re.findall(pattern, data, flags=re.IGNORECASE)\n",
        "print(matches)"
      ],
      "metadata": {
        "colab": {
          "base_uri": "https://localhost:8080/"
        },
        "id": "JBxNZBbhIG0V",
        "outputId": "459c509e-c448-4ed0-e62e-f55b18fb8729"
      },
      "execution_count": 24,
      "outputs": [
        {
          "output_type": "stream",
          "name": "stdout",
          "text": [
            "['The', 'the', 'THE', 'the', 'the', 'the']\n"
          ]
        }
      ]
    },
    {
      "cell_type": "markdown",
      "source": [
        "1.6. Функция для формирования случайных наборов слов\n",
        "Задача: Написать на Python функцию, которая в качестве первого параметра принимает текст, а в качестве второго и третьего два числа, означающие минимальное и максимальное количество слов в случайных наборах слов, формируемых из текста.\n",
        "\n",
        "Решение:"
      ],
      "metadata": {
        "id": "mu6TdozBIVq-"
      }
    },
    {
      "cell_type": "code",
      "source": [
        "import random\n",
        "\n",
        "def generate_random_word_sets(text, min_words, max_words):\n",
        "    words = text.split()\n",
        "    random_set_size = random.randint(min_words, max_words)\n",
        "    random_set = random.sample(words, random_set_size)\n",
        "    return random_set\n",
        "\n",
        "text = \"Александр Сергеевич Пушкин приехал на сейшн\"\n",
        "random_set = generate_random_word_sets(text, 2, 4)\n",
        "print(random_set)"
      ],
      "metadata": {
        "colab": {
          "base_uri": "https://localhost:8080/"
        },
        "id": "erRu9hq1IW9V",
        "outputId": "6ddc2c01-2479-4298-b8a4-7d4f405c885a"
      },
      "execution_count": 26,
      "outputs": [
        {
          "output_type": "stream",
          "name": "stdout",
          "text": [
            "['Александр', 'приехал', 'сейшн']\n"
          ]
        }
      ]
    },
    {
      "cell_type": "markdown",
      "source": [
        "1.7. Поддержание диалога с человеком (ELIZA)\n",
        "Задача: Придумать правила, обеспечивающие поддержание диалога с человеком, реализующие подход, примененный в программе ELIZA.\n",
        "\n",
        "Решение:"
      ],
      "metadata": {
        "id": "z_GO_LLjIwBT"
      }
    },
    {
      "cell_type": "code",
      "source": [
        "import re\n",
        "\n",
        "def eliza_response(sentence):\n",
        "    sentence = sentence.upper()\n",
        "\n",
        "    sentence = re.sub(r\"I'M\", \"YOU ARE\", sentence)\n",
        "\n",
        "    sentence = re.sub(r\".*YOU ARE (DEPRESSED|SAD).*\", r\"I'M SORRY TO HEAD YOU ARE \\1\", sentence)\n",
        "\n",
        "    sentence = re.sub(r\".*ALL.*\", \"IN WHAT WAY?\", sentence)\n",
        "\n",
        "    sentence = re.sub(r\".*ALWAYS.*\", \"CAN YOU THINK OF A SPECIFIC EXAMPLE?\", sentence)\n",
        "\n",
        "    return sentence\n",
        "\n",
        "\n",
        "text = \"I think I'm depressed\"\n",
        "print(eliza_response(text))\n",
        "\n",
        "text = \"I'm happy\"\n",
        "print(eliza_response(text))\n",
        "\n",
        "text = \"Men are all alike.\"\n",
        "print(eliza_response(text))\n",
        "\n",
        "text = \"They're always bugging us about something else.\"\n",
        "print(eliza_response(text))\n"
      ],
      "metadata": {
        "colab": {
          "base_uri": "https://localhost:8080/"
        },
        "id": "pxI54ymRIwQF",
        "outputId": "65f51986-2f52-4830-b11f-b7693262143c"
      },
      "execution_count": 36,
      "outputs": [
        {
          "output_type": "stream",
          "name": "stdout",
          "text": [
            "I'M SORRY TO HEAD YOU ARE DEPRESSED\n",
            "YOU ARE HAPPY\n",
            "IN WHAT WAY?\n",
            "CAN YOU THINK OF A SPECIFIC EXAMPLE?\n"
          ]
        }
      ]
    },
    {
      "cell_type": "markdown",
      "source": [
        "1.8. Усовершенствование токенайзера\n",
        "Задача: Усовершенствовать токенайзер, разбирающий текст 'That U.S.S.R. poster-print costs $12.50 ...', чтобы он корректно работал.\n",
        "\n",
        "Решение:"
      ],
      "metadata": {
        "id": "TzoEWmEKKOTQ"
      }
    },
    {
      "cell_type": "code",
      "source": [
        "import nltk\n",
        "from nltk.tokenize import regexp_tokenize\n",
        "\n",
        "text = 'That U.S.S.R. poster-print costs $12.50 ...'\n",
        "pattern = r'\\w+(?:\\.\\w+)*|\\$[\\d\\.]+|\\S+'\n",
        "tokens = regexp_tokenize(text, pattern)\n",
        "print(tokens)"
      ],
      "metadata": {
        "colab": {
          "base_uri": "https://localhost:8080/"
        },
        "id": "TOmOCRjQKRZo",
        "outputId": "dfc1377b-233c-44e1-cbe9-49cc6259eec9"
      },
      "execution_count": 27,
      "outputs": [
        {
          "output_type": "stream",
          "name": "stdout",
          "text": [
            "['That', 'U.S.S.R', '.', 'poster', '-print', 'costs', '$12.50', '...']\n"
          ]
        }
      ]
    }
  ]
}